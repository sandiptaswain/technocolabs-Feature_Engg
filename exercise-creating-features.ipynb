{
 "cells": [
  {
   "cell_type": "markdown",
   "id": "f5db8f1e",
   "metadata": {
    "papermill": {
     "duration": 0.007731,
     "end_time": "2023-07-14T12:35:17.805677",
     "exception": false,
     "start_time": "2023-07-14T12:35:17.797946",
     "status": "completed"
    },
    "tags": []
   },
   "source": [
    "**This notebook is an exercise in the [Feature Engineering](https://www.kaggle.com/learn/feature-engineering) course.  You can reference the tutorial at [this link](https://www.kaggle.com/ryanholbrook/creating-features).**\n",
    "\n",
    "---\n"
   ]
  },
  {
   "cell_type": "markdown",
   "id": "9857cb58",
   "metadata": {
    "papermill": {
     "duration": 0.006896,
     "end_time": "2023-07-14T12:35:17.820025",
     "exception": false,
     "start_time": "2023-07-14T12:35:17.813129",
     "status": "completed"
    },
    "tags": []
   },
   "source": [
    "# Introduction #\n",
    "\n",
    "In this exercise you'll start developing the features you identified in Exercise 2 as having the most potential. As you work through this exercise, you might take a moment to look at the data documentation again and consider whether the features we're creating make sense from a real-world perspective, and whether there are any useful combinations that stand out to you.\n",
    "\n",
    "Run this cell to set everything up!"
   ]
  },
  {
   "cell_type": "code",
   "execution_count": 1,
   "id": "a511ac58",
   "metadata": {
    "execution": {
     "iopub.execute_input": "2023-07-14T12:35:17.837097Z",
     "iopub.status.busy": "2023-07-14T12:35:17.836354Z",
     "iopub.status.idle": "2023-07-14T12:35:19.348480Z",
     "shell.execute_reply": "2023-07-14T12:35:19.347205Z"
    },
    "papermill": {
     "duration": 1.523567,
     "end_time": "2023-07-14T12:35:19.351456",
     "exception": false,
     "start_time": "2023-07-14T12:35:17.827889",
     "status": "completed"
    },
    "tags": []
   },
   "outputs": [
    {
     "name": "stderr",
     "output_type": "stream",
     "text": [
      "/opt/conda/lib/python3.10/site-packages/scipy/__init__.py:146: UserWarning: A NumPy version >=1.16.5 and <1.23.0 is required for this version of SciPy (detected version 1.23.5\n",
      "  warnings.warn(f\"A NumPy version >={np_minversion} and <{np_maxversion}\"\n"
     ]
    }
   ],
   "source": [
    "# Setup feedback system\n",
    "from learntools.core import binder\n",
    "binder.bind(globals())\n",
    "from learntools.feature_engineering_new.ex3 import *\n",
    "\n",
    "import numpy as np\n",
    "import pandas as pd\n",
    "from sklearn.model_selection import cross_val_score\n",
    "from xgboost import XGBRegressor\n",
    "\n",
    "\n",
    "def score_dataset(X, y, model=XGBRegressor()):\n",
    "    # Label encoding for categoricals\n",
    "    for colname in X.select_dtypes([\"category\", \"object\"]):\n",
    "        X[colname], _ = X[colname].factorize()\n",
    "    # Metric for Housing competition is RMSLE (Root Mean Squared Log Error)\n",
    "    score = cross_val_score(\n",
    "        model, X, y, cv=5, scoring=\"neg_mean_squared_log_error\",\n",
    "    )\n",
    "    score = -1 * score.mean()\n",
    "    score = np.sqrt(score)\n",
    "    return score\n",
    "\n",
    "\n",
    "# Prepare data\n",
    "df = pd.read_csv(\"../input/fe-course-data/ames.csv\")\n",
    "X = df.copy()\n",
    "y = X.pop(\"SalePrice\")"
   ]
  },
  {
   "cell_type": "markdown",
   "id": "d946006b",
   "metadata": {
    "papermill": {
     "duration": 0.007052,
     "end_time": "2023-07-14T12:35:19.365821",
     "exception": false,
     "start_time": "2023-07-14T12:35:19.358769",
     "status": "completed"
    },
    "tags": []
   },
   "source": [
    "-------------------------------------------------------------------------------\n",
    "\n",
    "Let's start with a few mathematical combinations. We'll focus on features describing areas -- having the same units (square-feet) makes it easy to combine them in sensible ways. Since we're using XGBoost (a tree-based model), we'll focus on ratios and sums.\n",
    "\n",
    "# 1) Create Mathematical Transforms\n",
    "\n",
    "Create the following features:\n",
    "\n",
    "- `LivLotRatio`: the ratio of `GrLivArea` to `LotArea`\n",
    "- `Spaciousness`: the sum of `FirstFlrSF` and `SecondFlrSF` divided by `TotRmsAbvGrd`\n",
    "- `TotalOutsideSF`: the sum of `WoodDeckSF`, `OpenPorchSF`, `EnclosedPorch`, `Threeseasonporch`, and `ScreenPorch`"
   ]
  },
  {
   "cell_type": "code",
   "execution_count": 2,
   "id": "f30037ed",
   "metadata": {
    "execution": {
     "iopub.execute_input": "2023-07-14T12:35:19.382110Z",
     "iopub.status.busy": "2023-07-14T12:35:19.381020Z",
     "iopub.status.idle": "2023-07-14T12:35:19.404970Z",
     "shell.execute_reply": "2023-07-14T12:35:19.403821Z"
    },
    "lines_to_next_cell": 0,
    "papermill": {
     "duration": 0.035638,
     "end_time": "2023-07-14T12:35:19.408445",
     "exception": false,
     "start_time": "2023-07-14T12:35:19.372807",
     "status": "completed"
    },
    "tags": []
   },
   "outputs": [
    {
     "data": {
      "application/javascript": [
       "parent.postMessage({\"jupyterEvent\": \"custom.exercise_interaction\", \"data\": {\"outcomeType\": 1, \"valueTowardsCompletion\": 0.2, \"interactionType\": 1, \"questionType\": 2, \"questionId\": \"1_Q1\", \"learnToolsVersion\": \"0.3.4\", \"failureMessage\": \"\", \"exceptionClass\": \"\", \"trace\": \"\"}}, \"*\")"
      ],
      "text/plain": [
       "<IPython.core.display.Javascript object>"
      ]
     },
     "metadata": {},
     "output_type": "display_data"
    },
    {
     "data": {
      "text/markdown": [
       "<span style=\"color:#33cc33\">Correct</span>"
      ],
      "text/plain": [
       "Correct"
      ]
     },
     "metadata": {},
     "output_type": "display_data"
    }
   ],
   "source": [
    "# YOUR CODE HERE\n",
    "X_1 = pd.DataFrame()  # dataframe to hold new features\n",
    "\n",
    "X_1[\"LivLotRatio\"] = df.GrLivArea / df.LotArea\n",
    "X_1[\"Spaciousness\"] = (df.FirstFlrSF + df.SecondFlrSF) / df.TotRmsAbvGrd\n",
    "X_1[\"TotalOutsideSF\"] = df.WoodDeckSF + df.OpenPorchSF + df.EnclosedPorch + df.Threeseasonporch + df.ScreenPorch\n",
    "\n",
    "\n",
    "# Check your answer\n",
    "q_1.check()"
   ]
  },
  {
   "cell_type": "code",
   "execution_count": 3,
   "id": "e00f3cb0",
   "metadata": {
    "execution": {
     "iopub.execute_input": "2023-07-14T12:35:19.425868Z",
     "iopub.status.busy": "2023-07-14T12:35:19.424984Z",
     "iopub.status.idle": "2023-07-14T12:35:19.429729Z",
     "shell.execute_reply": "2023-07-14T12:35:19.428815Z"
    },
    "lines_to_next_cell": 0,
    "papermill": {
     "duration": 0.015695,
     "end_time": "2023-07-14T12:35:19.431914",
     "exception": false,
     "start_time": "2023-07-14T12:35:19.416219",
     "status": "completed"
    },
    "tags": []
   },
   "outputs": [],
   "source": [
    "# Lines below will give you a hint or solution code\n",
    "#q_1.hint()\n",
    "#q_1.solution()"
   ]
  },
  {
   "cell_type": "markdown",
   "id": "69cf88be",
   "metadata": {
    "papermill": {
     "duration": 0.007283,
     "end_time": "2023-07-14T12:35:19.447047",
     "exception": false,
     "start_time": "2023-07-14T12:35:19.439764",
     "status": "completed"
    },
    "tags": []
   },
   "source": [
    "-------------------------------------------------------------------------------\n",
    "\n",
    "If you've discovered an interaction effect between a numeric feature and a categorical feature, you might want to model it explicitly using a one-hot encoding, like so:\n",
    "\n",
    "```\n",
    "# One-hot encode Categorical feature, adding a column prefix \"Cat\"\n",
    "X_new = pd.get_dummies(df.Categorical, prefix=\"Cat\")\n",
    "\n",
    "# Multiply row-by-row\n",
    "X_new = X_new.mul(df.Continuous, axis=0)\n",
    "\n",
    "# Join the new features to the feature set\n",
    "X = X.join(X_new)\n",
    "```\n",
    "\n",
    "# 2) Interaction with a Categorical\n",
    "\n",
    "We discovered an interaction between `BldgType` and `GrLivArea` in Exercise 2. Now create their interaction features."
   ]
  },
  {
   "cell_type": "code",
   "execution_count": 4,
   "id": "cca2c00e",
   "metadata": {
    "execution": {
     "iopub.execute_input": "2023-07-14T12:35:19.464644Z",
     "iopub.status.busy": "2023-07-14T12:35:19.463677Z",
     "iopub.status.idle": "2023-07-14T12:35:19.479454Z",
     "shell.execute_reply": "2023-07-14T12:35:19.478426Z"
    },
    "lines_to_next_cell": 0,
    "papermill": {
     "duration": 0.026723,
     "end_time": "2023-07-14T12:35:19.481684",
     "exception": false,
     "start_time": "2023-07-14T12:35:19.454961",
     "status": "completed"
    },
    "tags": []
   },
   "outputs": [
    {
     "data": {
      "application/javascript": [
       "parent.postMessage({\"jupyterEvent\": \"custom.exercise_interaction\", \"data\": {\"outcomeType\": 1, \"valueTowardsCompletion\": 0.2, \"interactionType\": 1, \"questionType\": 2, \"questionId\": \"2_Q2\", \"learnToolsVersion\": \"0.3.4\", \"failureMessage\": \"\", \"exceptionClass\": \"\", \"trace\": \"\"}}, \"*\")"
      ],
      "text/plain": [
       "<IPython.core.display.Javascript object>"
      ]
     },
     "metadata": {},
     "output_type": "display_data"
    },
    {
     "data": {
      "text/markdown": [
       "<span style=\"color:#33cc33\">Correct</span>"
      ],
      "text/plain": [
       "Correct"
      ]
     },
     "metadata": {},
     "output_type": "display_data"
    }
   ],
   "source": [
    "# YOUR CODE HERE\n",
    "# One-hot encode BldgType. Use `prefix=\"Bldg\"` in `get_dummies`\n",
    "\n",
    "X_2 = pd.get_dummies(df.BldgType, prefix=\"Bldg\")\n",
    "X_2 = X_2.mul(df.GrLivArea, axis=0)\n",
    "\n",
    "\n",
    "# Check your answer\n",
    "q_2.check()"
   ]
  },
  {
   "cell_type": "code",
   "execution_count": 5,
   "id": "e2f68ecd",
   "metadata": {
    "execution": {
     "iopub.execute_input": "2023-07-14T12:35:19.500138Z",
     "iopub.status.busy": "2023-07-14T12:35:19.499813Z",
     "iopub.status.idle": "2023-07-14T12:35:19.504155Z",
     "shell.execute_reply": "2023-07-14T12:35:19.503214Z"
    },
    "lines_to_next_cell": 0,
    "papermill": {
     "duration": 0.015648,
     "end_time": "2023-07-14T12:35:19.506448",
     "exception": false,
     "start_time": "2023-07-14T12:35:19.490800",
     "status": "completed"
    },
    "tags": []
   },
   "outputs": [],
   "source": [
    "# Lines below will give you a hint or solution code\n",
    "#q_2.hint()\n",
    "#q_2.solution()"
   ]
  },
  {
   "cell_type": "markdown",
   "id": "5d6f6f14",
   "metadata": {
    "lines_to_next_cell": 0,
    "papermill": {
     "duration": 0.007598,
     "end_time": "2023-07-14T12:35:19.521657",
     "exception": false,
     "start_time": "2023-07-14T12:35:19.514059",
     "status": "completed"
    },
    "tags": []
   },
   "source": [
    "# 3) Count Feature\n",
    "\n",
    "Let's try creating a feature that describes how many kinds of outdoor areas a dwelling has. Create a feature `PorchTypes` that counts how many of the following are greater than 0.0:\n",
    "\n",
    "```\n",
    "WoodDeckSF\n",
    "OpenPorchSF\n",
    "EnclosedPorch\n",
    "Threeseasonporch\n",
    "ScreenPorch\n",
    "```"
   ]
  },
  {
   "cell_type": "code",
   "execution_count": 6,
   "id": "1546010c",
   "metadata": {
    "execution": {
     "iopub.execute_input": "2023-07-14T12:35:19.538080Z",
     "iopub.status.busy": "2023-07-14T12:35:19.537746Z",
     "iopub.status.idle": "2023-07-14T12:35:19.553509Z",
     "shell.execute_reply": "2023-07-14T12:35:19.552739Z"
    },
    "lines_to_next_cell": 0,
    "papermill": {
     "duration": 0.02604,
     "end_time": "2023-07-14T12:35:19.555346",
     "exception": false,
     "start_time": "2023-07-14T12:35:19.529306",
     "status": "completed"
    },
    "tags": []
   },
   "outputs": [
    {
     "data": {
      "application/javascript": [
       "parent.postMessage({\"jupyterEvent\": \"custom.exercise_interaction\", \"data\": {\"outcomeType\": 1, \"valueTowardsCompletion\": 0.2, \"interactionType\": 1, \"questionType\": 2, \"questionId\": \"3_Q3\", \"learnToolsVersion\": \"0.3.4\", \"failureMessage\": \"\", \"exceptionClass\": \"\", \"trace\": \"\"}}, \"*\")"
      ],
      "text/plain": [
       "<IPython.core.display.Javascript object>"
      ]
     },
     "metadata": {},
     "output_type": "display_data"
    },
    {
     "data": {
      "text/markdown": [
       "<span style=\"color:#33cc33\">Correct</span>"
      ],
      "text/plain": [
       "Correct"
      ]
     },
     "metadata": {},
     "output_type": "display_data"
    }
   ],
   "source": [
    "X_3 = pd.DataFrame()\n",
    "\n",
    "# YOUR CODE HERE\n",
    "X_3[\"PorchTypes\"] = df[[\n",
    "    \"WoodDeckSF\",\n",
    "    \"OpenPorchSF\",\n",
    "    \"EnclosedPorch\",\n",
    "    \"Threeseasonporch\",\n",
    "    \"ScreenPorch\",\n",
    "]].gt(0.0).sum(axis=1)\n",
    "\n",
    "\n",
    "# Check your answer\n",
    "q_3.check()"
   ]
  },
  {
   "cell_type": "code",
   "execution_count": 7,
   "id": "f067ca97",
   "metadata": {
    "execution": {
     "iopub.execute_input": "2023-07-14T12:35:19.573211Z",
     "iopub.status.busy": "2023-07-14T12:35:19.572905Z",
     "iopub.status.idle": "2023-07-14T12:35:19.576303Z",
     "shell.execute_reply": "2023-07-14T12:35:19.575620Z"
    },
    "lines_to_next_cell": 0,
    "papermill": {
     "duration": 0.0146,
     "end_time": "2023-07-14T12:35:19.578204",
     "exception": false,
     "start_time": "2023-07-14T12:35:19.563604",
     "status": "completed"
    },
    "tags": []
   },
   "outputs": [],
   "source": [
    "# Lines below will give you a hint or solution code\n",
    "#q_3.hint()\n",
    "#q_3.solution()"
   ]
  },
  {
   "cell_type": "markdown",
   "id": "e14ec8b8",
   "metadata": {
    "papermill": {
     "duration": 0.00768,
     "end_time": "2023-07-14T12:35:19.593727",
     "exception": false,
     "start_time": "2023-07-14T12:35:19.586047",
     "status": "completed"
    },
    "tags": []
   },
   "source": [
    "# 4) Break Down a Categorical Feature\n",
    "\n",
    "`MSSubClass` describes the type of a dwelling:"
   ]
  },
  {
   "cell_type": "code",
   "execution_count": 8,
   "id": "130d6efb",
   "metadata": {
    "execution": {
     "iopub.execute_input": "2023-07-14T12:35:19.611009Z",
     "iopub.status.busy": "2023-07-14T12:35:19.610678Z",
     "iopub.status.idle": "2023-07-14T12:35:19.619188Z",
     "shell.execute_reply": "2023-07-14T12:35:19.618180Z"
    },
    "papermill": {
     "duration": 0.020129,
     "end_time": "2023-07-14T12:35:19.621500",
     "exception": false,
     "start_time": "2023-07-14T12:35:19.601371",
     "status": "completed"
    },
    "tags": []
   },
   "outputs": [
    {
     "data": {
      "text/plain": [
       "array(['One_Story_1946_and_Newer_All_Styles', 'Two_Story_1946_and_Newer',\n",
       "       'One_Story_PUD_1946_and_Newer',\n",
       "       'One_and_Half_Story_Finished_All_Ages', 'Split_Foyer',\n",
       "       'Two_Story_PUD_1946_and_Newer', 'Split_or_Multilevel',\n",
       "       'One_Story_1945_and_Older', 'Duplex_All_Styles_and_Ages',\n",
       "       'Two_Family_conversion_All_Styles_and_Ages',\n",
       "       'One_and_Half_Story_Unfinished_All_Ages',\n",
       "       'Two_Story_1945_and_Older', 'Two_and_Half_Story_All_Ages',\n",
       "       'One_Story_with_Finished_Attic_All_Ages',\n",
       "       'PUD_Multilevel_Split_Level_Foyer',\n",
       "       'One_and_Half_Story_PUD_All_Ages'], dtype=object)"
      ]
     },
     "execution_count": 8,
     "metadata": {},
     "output_type": "execute_result"
    }
   ],
   "source": [
    "df.MSSubClass.unique()"
   ]
  },
  {
   "cell_type": "markdown",
   "id": "488fedf1",
   "metadata": {
    "papermill": {
     "duration": 0.00795,
     "end_time": "2023-07-14T12:35:19.637820",
     "exception": false,
     "start_time": "2023-07-14T12:35:19.629870",
     "status": "completed"
    },
    "tags": []
   },
   "source": [
    "You can see that there is a more general categorization described (roughly) by the first word of each category. Create a feature containing only these first words by splitting `MSSubClass` at the first underscore `_`. (Hint: In the `split` method use an argument `n=1`.)"
   ]
  },
  {
   "cell_type": "code",
   "execution_count": 9,
   "id": "494957d9",
   "metadata": {
    "execution": {
     "iopub.execute_input": "2023-07-14T12:35:19.655774Z",
     "iopub.status.busy": "2023-07-14T12:35:19.655410Z",
     "iopub.status.idle": "2023-07-14T12:35:19.681231Z",
     "shell.execute_reply": "2023-07-14T12:35:19.680231Z"
    },
    "lines_to_next_cell": 0,
    "papermill": {
     "duration": 0.037393,
     "end_time": "2023-07-14T12:35:19.683413",
     "exception": false,
     "start_time": "2023-07-14T12:35:19.646020",
     "status": "completed"
    },
    "tags": []
   },
   "outputs": [
    {
     "data": {
      "application/javascript": [
       "parent.postMessage({\"jupyterEvent\": \"custom.exercise_interaction\", \"data\": {\"outcomeType\": 1, \"valueTowardsCompletion\": 0.2, \"interactionType\": 1, \"questionType\": 2, \"questionId\": \"4_Q4\", \"learnToolsVersion\": \"0.3.4\", \"failureMessage\": \"\", \"exceptionClass\": \"\", \"trace\": \"\"}}, \"*\")"
      ],
      "text/plain": [
       "<IPython.core.display.Javascript object>"
      ]
     },
     "metadata": {},
     "output_type": "display_data"
    },
    {
     "data": {
      "text/markdown": [
       "<span style=\"color:#33cc33\">Correct</span>"
      ],
      "text/plain": [
       "Correct"
      ]
     },
     "metadata": {},
     "output_type": "display_data"
    }
   ],
   "source": [
    "X_4 = pd.DataFrame()\n",
    "\n",
    "# YOUR CODE HERE\n",
    "X_4[\"MSClass\"] = df.MSSubClass.str.split(\"_\", n=1, expand=True)[0]\n",
    "\n",
    "# Check your answer\n",
    "q_4.check()"
   ]
  },
  {
   "cell_type": "code",
   "execution_count": 10,
   "id": "e6671ab9",
   "metadata": {
    "execution": {
     "iopub.execute_input": "2023-07-14T12:35:19.702025Z",
     "iopub.status.busy": "2023-07-14T12:35:19.701640Z",
     "iopub.status.idle": "2023-07-14T12:35:19.710071Z",
     "shell.execute_reply": "2023-07-14T12:35:19.709125Z"
    },
    "lines_to_next_cell": 0,
    "papermill": {
     "duration": 0.020172,
     "end_time": "2023-07-14T12:35:19.712351",
     "exception": false,
     "start_time": "2023-07-14T12:35:19.692179",
     "status": "completed"
    },
    "tags": []
   },
   "outputs": [
    {
     "data": {
      "application/javascript": [
       "parent.postMessage({\"jupyterEvent\": \"custom.exercise_interaction\", \"data\": {\"interactionType\": 3, \"questionType\": 2, \"questionId\": \"4_Q4\", \"learnToolsVersion\": \"0.3.4\", \"valueTowardsCompletion\": 0.0, \"failureMessage\": \"\", \"exceptionClass\": \"\", \"trace\": \"\", \"outcomeType\": 4}}, \"*\")"
      ],
      "text/plain": [
       "<IPython.core.display.Javascript object>"
      ]
     },
     "metadata": {},
     "output_type": "display_data"
    },
    {
     "data": {
      "text/markdown": [
       "<span style=\"color:#33cc99\">Solution:</span> \n",
       "```python\n",
       "\n",
       "X_4 = pd.DataFrame()\n",
       "\n",
       "X_4[\"MSClass\"] = df.MSSubClass.str.split(\"_\", n=1, expand=True)[0]\n",
       "\n",
       "```"
      ],
      "text/plain": [
       "Solution: \n",
       "```python\n",
       "\n",
       "X_4 = pd.DataFrame()\n",
       "\n",
       "X_4[\"MSClass\"] = df.MSSubClass.str.split(\"_\", n=1, expand=True)[0]\n",
       "\n",
       "```"
      ]
     },
     "metadata": {},
     "output_type": "display_data"
    }
   ],
   "source": [
    "# Lines below will give you a hint or solution code\n",
    "#q_4.hint()\n",
    "q_4.solution()"
   ]
  },
  {
   "cell_type": "markdown",
   "id": "8ed208a6",
   "metadata": {
    "papermill": {
     "duration": 0.008417,
     "end_time": "2023-07-14T12:35:19.729484",
     "exception": false,
     "start_time": "2023-07-14T12:35:19.721067",
     "status": "completed"
    },
    "tags": []
   },
   "source": [
    "# 5) Use a Grouped Transform\n",
    "\n",
    "The value of a home often depends on how it compares to typical homes in its neighborhood. Create a feature `MedNhbdArea` that describes the *median* of `GrLivArea` grouped on `Neighborhood`."
   ]
  },
  {
   "cell_type": "code",
   "execution_count": 11,
   "id": "a9d7410d",
   "metadata": {
    "execution": {
     "iopub.execute_input": "2023-07-14T12:35:19.748793Z",
     "iopub.status.busy": "2023-07-14T12:35:19.748461Z",
     "iopub.status.idle": "2023-07-14T12:35:19.767046Z",
     "shell.execute_reply": "2023-07-14T12:35:19.766008Z"
    },
    "lines_to_next_cell": 0,
    "papermill": {
     "duration": 0.03106,
     "end_time": "2023-07-14T12:35:19.769255",
     "exception": false,
     "start_time": "2023-07-14T12:35:19.738195",
     "status": "completed"
    },
    "tags": []
   },
   "outputs": [
    {
     "data": {
      "application/javascript": [
       "parent.postMessage({\"jupyterEvent\": \"custom.exercise_interaction\", \"data\": {\"outcomeType\": 1, \"valueTowardsCompletion\": 0.2, \"interactionType\": 1, \"questionType\": 2, \"questionId\": \"5_Q5\", \"learnToolsVersion\": \"0.3.4\", \"failureMessage\": \"\", \"exceptionClass\": \"\", \"trace\": \"\"}}, \"*\")"
      ],
      "text/plain": [
       "<IPython.core.display.Javascript object>"
      ]
     },
     "metadata": {},
     "output_type": "display_data"
    },
    {
     "data": {
      "text/markdown": [
       "<span style=\"color:#33cc33\">Correct</span>"
      ],
      "text/plain": [
       "Correct"
      ]
     },
     "metadata": {},
     "output_type": "display_data"
    }
   ],
   "source": [
    "X_5 = pd.DataFrame()\n",
    "\n",
    "# YOUR CODE HERE\n",
    "X_5[\"MedNhbdArea\"] = df.groupby(\"Neighborhood\")[\"GrLivArea\"].transform(\"median\")\n",
    "\n",
    "# Check your answer\n",
    "q_5.check()"
   ]
  },
  {
   "cell_type": "code",
   "execution_count": 12,
   "id": "cbc1210b",
   "metadata": {
    "execution": {
     "iopub.execute_input": "2023-07-14T12:35:19.789586Z",
     "iopub.status.busy": "2023-07-14T12:35:19.788928Z",
     "iopub.status.idle": "2023-07-14T12:35:19.793330Z",
     "shell.execute_reply": "2023-07-14T12:35:19.792362Z"
    },
    "lines_to_next_cell": 0,
    "papermill": {
     "duration": 0.01689,
     "end_time": "2023-07-14T12:35:19.795516",
     "exception": false,
     "start_time": "2023-07-14T12:35:19.778626",
     "status": "completed"
    },
    "tags": []
   },
   "outputs": [],
   "source": [
    "# Lines below will give you a hint or solution code\n",
    "#q_5.hint()\n",
    "#q_5.solution()"
   ]
  },
  {
   "cell_type": "markdown",
   "id": "262312e7",
   "metadata": {
    "papermill": {
     "duration": 0.009083,
     "end_time": "2023-07-14T12:35:19.814014",
     "exception": false,
     "start_time": "2023-07-14T12:35:19.804931",
     "status": "completed"
    },
    "tags": []
   },
   "source": [
    "Now you've made your first new feature set! If you like, you can run the cell below to score the model with all of your new features added:"
   ]
  },
  {
   "cell_type": "code",
   "execution_count": 13,
   "id": "95feb865",
   "metadata": {
    "execution": {
     "iopub.execute_input": "2023-07-14T12:35:19.835037Z",
     "iopub.status.busy": "2023-07-14T12:35:19.834263Z",
     "iopub.status.idle": "2023-07-14T12:35:23.624162Z",
     "shell.execute_reply": "2023-07-14T12:35:23.623176Z"
    },
    "papermill": {
     "duration": 3.803362,
     "end_time": "2023-07-14T12:35:23.626708",
     "exception": false,
     "start_time": "2023-07-14T12:35:19.823346",
     "status": "completed"
    },
    "tags": []
   },
   "outputs": [
    {
     "data": {
      "text/plain": [
       "0.13865658070461215"
      ]
     },
     "execution_count": 13,
     "metadata": {},
     "output_type": "execute_result"
    }
   ],
   "source": [
    "X_new = X.join([X_1, X_2, X_3, X_4, X_5])\n",
    "score_dataset(X_new, y)"
   ]
  },
  {
   "cell_type": "markdown",
   "id": "6d366356",
   "metadata": {
    "papermill": {
     "duration": 0.009339,
     "end_time": "2023-07-14T12:35:23.647045",
     "exception": false,
     "start_time": "2023-07-14T12:35:23.637706",
     "status": "completed"
    },
    "tags": []
   },
   "source": [
    "# Keep Going #\n",
    "\n",
    "[**Untangle spatial relationships**](https://www.kaggle.com/ryanholbrook/clustering-with-k-means) by adding cluster labels to your dataset."
   ]
  },
  {
   "cell_type": "markdown",
   "id": "c531e4fd",
   "metadata": {
    "papermill": {
     "duration": 0.009456,
     "end_time": "2023-07-14T12:35:23.666002",
     "exception": false,
     "start_time": "2023-07-14T12:35:23.656546",
     "status": "completed"
    },
    "tags": []
   },
   "source": [
    "---\n",
    "\n",
    "\n",
    "\n",
    "\n",
    "*Have questions or comments? Visit the [course discussion forum](https://www.kaggle.com/learn/feature-engineering/discussion) to chat with other learners.*"
   ]
  }
 ],
 "metadata": {
  "kernelspec": {
   "display_name": "Python 3",
   "language": "python",
   "name": "python3"
  },
  "language_info": {
   "codemirror_mode": {
    "name": "ipython",
    "version": 3
   },
   "file_extension": ".py",
   "mimetype": "text/x-python",
   "name": "python",
   "nbconvert_exporter": "python",
   "pygments_lexer": "ipython3",
   "version": "3.10.12"
  },
  "papermill": {
   "default_parameters": {},
   "duration": 17.397649,
   "end_time": "2023-07-14T12:35:24.597154",
   "environment_variables": {},
   "exception": null,
   "input_path": "__notebook__.ipynb",
   "output_path": "__notebook__.ipynb",
   "parameters": {},
   "start_time": "2023-07-14T12:35:07.199505",
   "version": "2.4.0"
  }
 },
 "nbformat": 4,
 "nbformat_minor": 5
}
